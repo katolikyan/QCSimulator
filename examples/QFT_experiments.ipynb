{
  "nbformat": 4,
  "nbformat_minor": 0,
  "metadata": {
    "colab": {
      "name": "QFT experiments",
      "provenance": [],
      "collapsed_sections": []
    },
    "kernelspec": {
      "name": "python3",
      "display_name": "Python 3"
    }
  },
  "cells": [
    {
      "cell_type": "markdown",
      "metadata": {
        "id": "p-9DfuPL4jpw",
        "colab_type": "text"
      },
      "source": [
        "### Experements:\n",
        "\n",
        "Let's try to build some simple periodic function and try to find it's period.\\\n",
        "Case 1: \\\n",
        "So let's say our function is $f(x) = x \\bmod 2$ \\\n",
        "Thus we have our function bouncing from 0 to 1 every step. ` 1 0 1 0 1 0 1 0` \\\n",
        "Circuit for that function is going to be an H gate on all the qubits to gain the superposition (aka gain all the permutations) and $U_f$ will be just a CNOT with control on qubit 0. \\\n",
        "case 2:\\\n",
        "Also, If we apply CNOT on `qubit 1` instead of `qubit 0` we will get a function which output would look like ` 1 1 0 0 1 1 0 0 `\\\n",
        "Case 3:\\\n",
        "If we put control on `qubit 2` the output would be `1 1 1 1 0 0 0 0`\n",
        "\n",
        "Then we will apply QFT and take a look at the results."
      ]
    },
    {
      "cell_type": "code",
      "metadata": {
        "id": "iWacFSKs7Kuw",
        "colab_type": "code",
        "colab": {}
      },
      "source": [
        "#instaling the library\n",
        "!git clone https://github.com/katolikyan/QCSimulator.git\n",
        "!pip3 install QCSimulator/"
      ],
      "execution_count": null,
      "outputs": []
    },
    {
      "cell_type": "code",
      "metadata": {
        "id": "KrkGLINa7M5F",
        "colab_type": "code",
        "colab": {}
      },
      "source": [
        "import qcsimulator as qcs\n",
        "import tensornetwork as tn\n",
        "import numpy as np\n",
        "import itertools"
      ],
      "execution_count": null,
      "outputs": []
    },
    {
      "cell_type": "code",
      "metadata": {
        "id": "0oqAB5yK4Z8t",
        "colab_type": "code",
        "colab": {
          "base_uri": "https://localhost:8080/",
          "height": 649
        },
        "outputId": "64b109b9-3b73-4d37-b9e7-f0e8a29801e0"
      },
      "source": [
        "n_qubits = 4\n",
        "# creating the circuit:\n",
        "circuit = qcs.circuit_init(n_qubits)\n",
        "circuit.x(-1)\n",
        "for i in range(n_qubits - 1):\n",
        "  circuit.h(i)\n",
        "circuit.cx(0, 3)\n",
        "\n",
        "# applying the qft: \n",
        "circuit.qft(0, 2)\n",
        "\n",
        "result = circuit.execute()\n",
        "# printing all probabilities and statevector to take a look at them.\n",
        "print(\" --- all probabilities after QFT: ---\")\n",
        "print(result.get_all_probabilities(), \"\\n\")\n",
        "print(\" --- state tensor after QFT: ---\")\n",
        "print(np.around(result.get_state_tensor(), decimals=3), \"\\n\")\n",
        "# Measuring the first 3 qubits with slice probability function:\n",
        "print(\" --- n qubit probability: ---\")\n",
        "print(result.get_n_qubit_probability(0, 3), \"\\n\")\n",
        "\n",
        "# Trying to get periods but not sure if this is correct.\n",
        "sv = result.get_state_vector()\n",
        "for i, spectr in enumerate(sv):\n",
        "  print(i, \": \", np.around(np.sqrt(\\\n",
        "        spectr.real * spectr.real + spectr.imag * spectr.imag), decimals=5))"
      ],
      "execution_count": null,
      "outputs": [
        {
          "output_type": "stream",
          "text": [
            " --- all probabilities after QFT: ---\n",
            "{'0000': 0.24999999999999978, '0001': 0.10669417382415913, '0010': 5.669408418833352e-36, '0011': 0.062499999999999944, '0100': 1.3942650518608993e-34, '0101': 0.01830582617584076, '0110': 5.669408418833352e-36, '0111': 0.06249999999999992, '1000': 0.24999999999999978, '1001': 0.10669417382415913, '1010': 5.669408418833352e-36, '1011': 0.062499999999999944, '1100': 1.3942650518608993e-34, '1101': 0.01830582617584076, '1110': 5.669408418833352e-36, '1111': 0.06249999999999992} \n",
            "\n",
            " --- state tensor after QFT: ---\n",
            "[[[[ 0.5  +0.j     0.5  +0.j   ]\n",
            "   [ 0.   +0.j     0.   +0.j   ]]\n",
            "\n",
            "  [[ 0.   -0.j     0.   -0.j   ]\n",
            "   [ 0.   +0.j     0.   +0.j   ]]]\n",
            "\n",
            "\n",
            " [[[-0.125-0.302j  0.125+0.302j]\n",
            "   [-0.125+0.052j  0.125-0.052j]]\n",
            "\n",
            "  [[-0.25 +0.j     0.25 -0.j   ]\n",
            "   [-0.   +0.25j   0.   -0.25j ]]]] \n",
            "\n",
            " --- n qubit probability: ---\n",
            "{'000': 0.49999999999999956, '001': 0.21338834764831827, '010': 1.1338816837666705e-35, '011': 0.12499999999999989, '100': 2.7885301037217986e-34, '101': 0.03661165235168152, '110': 1.1338816837666705e-35, '111': 0.12499999999999983} \n",
            "\n",
            "0 :  0.5\n",
            "1 :  0.32664\n",
            "2 :  0.0\n",
            "3 :  0.25\n",
            "4 :  0.0\n",
            "5 :  0.1353\n",
            "6 :  0.0\n",
            "7 :  0.25\n",
            "8 :  0.5\n",
            "9 :  0.32664\n",
            "10 :  0.0\n",
            "11 :  0.25\n",
            "12 :  0.0\n",
            "13 :  0.1353\n",
            "14 :  0.0\n",
            "15 :  0.25\n"
          ],
          "name": "stdout"
        }
      ]
    },
    {
      "cell_type": "markdown",
      "metadata": {
        "id": "zYQQghR569X9",
        "colab_type": "text"
      },
      "source": [
        "### Somethind like $f(x) = 3 - x \\bmod 4$"
      ]
    },
    {
      "cell_type": "code",
      "metadata": {
        "id": "Dl43fA-n5HR2",
        "colab_type": "code",
        "colab": {
          "base_uri": "https://localhost:8080/",
          "height": 1000
        },
        "outputId": "9d28e540-2926-477d-eddd-86c056c16814"
      },
      "source": [
        "n_qubits = 5\n",
        "circuit = qcs.circuit_init(n_qubits)\n",
        "circuit.x(-1)\n",
        "circuit.x(-2)\n",
        "for i in range(n_qubits):\n",
        "  circuit.h(i)\n",
        "\n",
        "circuit.cx(0, 3) \n",
        "circuit.cx(1, 4)\n",
        "\n",
        "circuit.qft(0, 2)\n",
        "\n",
        "result = circuit.execute()\n",
        "# printing all probabilities and statevector to take a look at them.\n",
        "print(\" --- all probabilities after QFT: ---\")\n",
        "print(result.get_all_probabilities(), \"\\n\")\n",
        "print(\" --- state tensor after QFT: ---\")\n",
        "print(np.around(result.get_state_tensor(), decimals=3), \"\\n\")\n",
        "# Measuring the first 3 qubits with slice probability function:\n",
        "print(\" --- n qubit probability: ---\")\n",
        "print(result.get_n_qubit_probability(0, 3), \"\\n\")\n",
        "\n",
        "# Trying to get periods but not sure if this is correct.\n",
        "sv = result.get_state_vector()\n",
        "for i, spectr in enumerate(sv):\n",
        "  print(i, \": \", np.around(np.sqrt(\\\n",
        "        spectr.real * spectr.real + spectr.imag * spectr.imag), decimals=5))"
      ],
      "execution_count": null,
      "outputs": [
        {
          "output_type": "stream",
          "text": [
            " --- all probabilities after QFT: ---\n",
            "{'00000': 0.0, '00001': 0.10669417382415902, '00010': 9.913120142877867e-35, '00011': 0.06249999999999992, '00100': 9.177847673212531e-101, '00101': 0.01830582617584075, '00110': 3.446108591430105e-35, '00111': 0.06249999999999989, '01000': 0.0, '01001': 0.10669417382415902, '01010': 9.913120142877867e-35, '01011': 0.06249999999999992, '01100': 9.177847673212531e-101, '01101': 0.01830582617584075, '01110': 3.446108591430105e-35, '01111': 0.06249999999999989, '10000': 0.0, '10001': 0.10669417382415902, '10010': 9.913120142877867e-35, '10011': 0.06249999999999992, '10100': 9.177847673212531e-101, '10101': 0.01830582617584075, '10110': 3.446108591430105e-35, '10111': 0.06249999999999989, '11000': 0.0, '11001': 0.10669417382415902, '11010': 9.913120142877867e-35, '11011': 0.06249999999999992, '11100': 9.177847673212531e-101, '11101': 0.01830582617584075, '11110': 3.446108591430105e-35, '11111': 0.06249999999999989} \n",
            "\n",
            " --- state tensor after QFT: ---\n",
            "[[[[[ 0.   +0.j     0.   +0.j   ]\n",
            "    [ 0.   +0.j     0.   +0.j   ]]\n",
            "\n",
            "   [[-0.   +0.j     0.   +0.j   ]\n",
            "    [ 0.   +0.j    -0.   +0.j   ]]]\n",
            "\n",
            "\n",
            "  [[[-0.   +0.j     0.   -0.j   ]\n",
            "    [ 0.   -0.j    -0.   +0.j   ]]\n",
            "\n",
            "   [[ 0.   -0.j    -0.   +0.j   ]\n",
            "    [-0.   +0.j     0.   -0.j   ]]]]\n",
            "\n",
            "\n",
            "\n",
            " [[[[ 0.302-0.125j -0.302+0.125j]\n",
            "    [-0.302+0.125j  0.302-0.125j]]\n",
            "\n",
            "   [[-0.052-0.125j  0.052+0.125j]\n",
            "    [ 0.052+0.125j -0.052-0.125j]]]\n",
            "\n",
            "\n",
            "  [[[ 0.   +0.25j  -0.   -0.25j ]\n",
            "    [-0.   -0.25j   0.   +0.25j ]]\n",
            "\n",
            "   [[ 0.25 -0.j    -0.25 +0.j   ]\n",
            "    [-0.25 +0.j     0.25 -0.j   ]]]]] \n",
            "\n",
            " --- n qubit probability: ---\n",
            "{'000': 0.0, '001': 0.4267766952966361, '010': 3.965248057151147e-34, '011': 0.24999999999999967, '100': 3.6711390692850124e-100, '101': 0.073223304703363, '110': 1.378443436572042e-34, '111': 0.24999999999999956} \n",
            "\n",
            "0 :  0.0\n",
            "1 :  0.32664\n",
            "2 :  0.0\n",
            "3 :  0.25\n",
            "4 :  0.0\n",
            "5 :  0.1353\n",
            "6 :  0.0\n",
            "7 :  0.25\n",
            "8 :  0.0\n",
            "9 :  0.32664\n",
            "10 :  0.0\n",
            "11 :  0.25\n",
            "12 :  0.0\n",
            "13 :  0.1353\n",
            "14 :  0.0\n",
            "15 :  0.25\n",
            "16 :  0.0\n",
            "17 :  0.32664\n",
            "18 :  0.0\n",
            "19 :  0.25\n",
            "20 :  0.0\n",
            "21 :  0.1353\n",
            "22 :  0.0\n",
            "23 :  0.25\n",
            "24 :  0.0\n",
            "25 :  0.32664\n",
            "26 :  0.0\n",
            "27 :  0.25\n",
            "28 :  0.0\n",
            "29 :  0.1353\n",
            "30 :  0.0\n",
            "31 :  0.25\n"
          ],
          "name": "stdout"
        }
      ]
    },
    {
      "cell_type": "markdown",
      "metadata": {
        "id": "iUtyHyBhObMq",
        "colab_type": "text"
      },
      "source": [
        "---\n",
        "### Phase estimation algorithm\n"
      ]
    },
    {
      "cell_type": "code",
      "metadata": {
        "id": "2ZwSZWEVLtYx",
        "colab_type": "code",
        "colab": {
          "base_uri": "https://localhost:8080/",
          "height": 377
        },
        "outputId": "78963600-c507-45e7-badb-8562cb09b08d"
      },
      "source": [
        "n_qubits = 4\n",
        "# Creating the circuit:\n",
        "circuit = qcs.circuit_init(n_qubits)\n",
        "circuit.x(-1)\n",
        "for i in range(n_qubits - 1):\n",
        "  circuit.h(i)\n",
        "\n",
        "# applying Uf functions, crot applyed multiple times to get desired rotation.\n",
        "repetitions = 2**2\n",
        "for control_q in range(3):\n",
        "  angle = 0\n",
        "  for i in range(repetitions):\n",
        "    angle += np.pi / 4\n",
        "  circuit.crot(control_q, 3, angle)\n",
        "  repetitions //= 2\n",
        "\n",
        "# Swaping qubits befor applying inverse QFT:\n",
        "for qubit in range(int((n_qubits - 1) / 2)):\n",
        "  circuit.swap(qubit, n_qubits - qubit - 2)\n",
        "circuit.qft_rev(0, 2)\n",
        "\n",
        "result = circuit.execute()\n",
        "# printing all probabilities and statevector to take a look at them.\n",
        "print(\" --- all probabilities after QFT: ---\")\n",
        "print(result.get_all_probabilities(), \"\\n\")\n",
        "print(\" --- state tensor after QFT: ---\")\n",
        "print(np.around(result.get_state_tensor(), decimals=3), \"\\n\")\n",
        "# Measuring the first 3 qubits with slice probability function:\n",
        "print(\" --- n qubit probability: ---\")\n",
        "print(result.get_n_qubit_probability(0, 3), \"\\n\")"
      ],
      "execution_count": null,
      "outputs": [
        {
          "output_type": "stream",
          "text": [
            " --- all probabilities after QFT: ---\n",
            "{'0000': 0.0, '0001': 0.0, '0010': 0.0, '0011': 0.0, '0100': 0.0, '0101': 0.0, '0110': 0.0, '0111': 0.0, '1000': 5.913835542619439e-34, '1001': 5.396288442443364e-34, '1010': 1.603508122592604e-33, '1011': 2.4312760288705106e-34, '1100': 0.8535533905932727, '1101': 2.5436939270568865e-33, '1110': 0.07322330470336302, '1111': 0.07322330470336304} \n",
            "\n",
            " --- state tensor after QFT: ---\n",
            "[[[[ 0.   +0.j    -0.   +0.j   ]\n",
            "   [ 0.   +0.j     0.854+0.354j]]\n",
            "\n",
            "  [[ 0.   +0.j     0.   +0.j   ]\n",
            "   [ 0.   +0.j    -0.104-0.25j ]]]\n",
            "\n",
            "\n",
            " [[[ 0.   +0.j    -0.   +0.j   ]\n",
            "   [ 0.   +0.j    -0.   +0.j   ]]\n",
            "\n",
            "  [[ 0.   +0.j    -0.   +0.j   ]\n",
            "   [ 0.   +0.j     0.25 -0.104j]]]] \n",
            "\n",
            " --- n qubit probability: ---\n",
            "{'000': 5.913835542619439e-34, '001': 5.396288442443364e-34, '010': 1.603508122592604e-33, '011': 2.4312760288705106e-34, '100': 0.8535533905932727, '101': 2.5436939270568865e-33, '110': 0.07322330470336302, '111': 0.07322330470336304} \n",
            "\n"
          ],
          "name": "stdout"
        }
      ]
    }
  ]
}
