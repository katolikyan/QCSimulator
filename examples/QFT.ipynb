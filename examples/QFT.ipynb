{
  "nbformat": 4,
  "nbformat_minor": 0,
  "metadata": {
    "colab": {
      "name": "QFT",
      "provenance": [],
      "collapsed_sections": [],
      "toc_visible": true
    },
    "kernelspec": {
      "name": "python3",
      "display_name": "Python 3"
    }
  },
  "cells": [
    {
      "cell_type": "markdown",
      "metadata": {
        "id": "yX5hjHdjcrGY",
        "colab_type": "text"
      },
      "source": [
        "### Quantum Fourier Transform.\n",
        "#### In this colab:\n",
        "* We will take a quick overview of QFT. \\\n",
        "* implement QFT manually using QCSimulator lib. \\\n",
        "* Take a look on build-in `qft()` and `qft_rev()` functions inside QCSimulator lib."
      ]
    },
    {
      "cell_type": "markdown",
      "metadata": {
        "id": "x2_Y5nv5xUAS",
        "colab_type": "text"
      },
      "source": [
        "### 1. Quick overview:\n",
        "Let's take a look at how the QFT implementation looks like in general.\n",
        "![QFT](https://drive.google.com/uc?id=1RtLz3PxBQVkboksMAn2k23O-960khOY4) \n",
        "Where $\\phi_n = e^{\\dfrac{2i\\pi}{2^n}}$ \\\n",
        "For better understanding we also can treat H gate as a $e^{q_0 i\\pi}$ apllied on $|1⟩$ state of the qubit.\n",
        "\\\n",
        "H gate is necessary before any of the CROT gates, to ensure that a qubit is in a superposition state. Then, the CROT gate applies an additional phase to the $|1⟩$ component of a qubit. \\\n",
        "What happens in QFT is we kind of swapping from position space to momentum space so we can analyze and see our wavefunction from a different \"angle\" and apply some other gates to that state, then reverse it back using inverse QFT. \\\n",
        "\\\n",
        "Basically, QFT is a DFT applied to the quantum bits. \\\n",
        "The DFT as well as QFT can help us find a period of a function. For factorization problem we need to find the period for $f(x) = a^x \\mod M$ where M is a number to factorize. \\\n",
        "QFT, like all the operations in QC, is reversible. When inverting the QFT we have to notice that the angles become negative (to kind of rotate to initial position)."
      ]
    },
    {
      "cell_type": "markdown",
      "metadata": {
        "id": "RE7zUoNGdsKG",
        "colab_type": "text"
      },
      "source": [
        "### 2. Implementation. \n",
        "Let's now create a circuit and manually implement QFT using CROT and H gates from our lib."
      ]
    },
    {
      "cell_type": "code",
      "metadata": {
        "id": "tgH-In4_d8od",
        "colab_type": "code",
        "colab": {}
      },
      "source": [
        "#instaling the library\n",
        "!git clone https://github.com/katolikyan/QCSimulator.git\n",
        "!pip3 install QCSimulator/"
      ],
      "execution_count": null,
      "outputs": []
    },
    {
      "cell_type": "code",
      "metadata": {
        "id": "cSo9zn4lgfV7",
        "colab_type": "code",
        "colab": {}
      },
      "source": [
        "import qcsimulator as qcs\n",
        "import numpy as np"
      ],
      "execution_count": 2,
      "outputs": []
    },
    {
      "cell_type": "markdown",
      "metadata": {
        "id": "X9uspW--exMd",
        "colab_type": "text"
      },
      "source": [
        "A circuit we are going to implement will look like this, we took a little bit bigger circuit to feel the angle relations between CROT gates.\n",
        "We will apply an X gate to the second qubit just to trigger controlled phase rotation gates and take a look at output state vector.\n",
        "At the 2nd block of code, we will apply inverse QFT."
      ]
    },
    {
      "cell_type": "code",
      "metadata": {
        "id": "lGgPWpCFsWTg",
        "colab_type": "code",
        "colab": {
          "base_uri": "https://localhost:8080/",
          "height": 238
        },
        "outputId": "ca3395ab-a5ac-47f0-87c9-0cbd99e50f0f"
      },
      "source": [
        "# Our sicruit is going to look like this:\n",
        "# |0> ----H--R--R--R--------------------\n",
        "#            |  |  |\n",
        "# |0> -------*--|--|--H--R--R-----------\n",
        "#               |  |     |  |\n",
        "# |0> --X-------*--|-----*--|--H--R-----\n",
        "#                  |        |     |\n",
        "# |0> -------------*--------*-----*--H--\n",
        "\n",
        "circuit = qcs.circuit_init(4) # circuit initialization with 4 qubits.\n",
        "circuit.x(2) # X on the third qubit\n",
        "result = circuit.execute()\n",
        "sv_initial = result.get_state_vector()\n",
        "print(\"----- Initial state vector -----\")\n",
        "print(sv_initial, \"\\n\")\n",
        "\n",
        "#QFT\n",
        "# qubit 0\n",
        "circuit.h(0)\n",
        "circuit.crot(1, 0, np.pi / 2)\n",
        "circuit.crot(2, 0, np.pi / 4)\n",
        "circuit.crot(3, 0, np.pi / 8)\n",
        "# qubit 1\n",
        "circuit.h(1)\n",
        "circuit.crot(2, 1, np.pi / 4)\n",
        "circuit.crot(3, 1, np.pi / 8)\n",
        "# qubit 2\n",
        "circuit.h(2)\n",
        "circuit.crot(3, 2, np.pi / 8)\n",
        "# qubit 3\n",
        "circuit.h(3)\n",
        "\n",
        "result_qft = circuit.execute()\n",
        "sv_qft = result_qft.get_state_vector()\n",
        "print(\"----- State vector after QFT -----\")\n",
        "print(sv_qft)"
      ],
      "execution_count": 3,
      "outputs": [
        {
          "output_type": "stream",
          "text": [
            "----- Initial state vector -----\n",
            "[0.+0.j 0.+0.j 0.+0.j 0.+0.j 1.+0.j 0.+0.j 0.+0.j 0.+0.j 0.+0.j 0.+0.j\n",
            " 0.+0.j 0.+0.j 0.+0.j 0.+0.j 0.+0.j 0.+0.j] \n",
            "\n",
            "----- State vector after QFT -----\n",
            "[ 2.50000000e-01+0.j         1.76776695e-01+0.1767767j\n",
            "  1.76776695e-01+0.1767767j  5.55111512e-17+0.25j\n",
            " -2.50000000e-01+0.j        -1.76776695e-01-0.1767767j\n",
            " -1.76776695e-01-0.1767767j -5.55111512e-17-0.25j\n",
            "  2.50000000e-01+0.j         1.76776695e-01+0.1767767j\n",
            "  1.76776695e-01+0.1767767j  5.55111512e-17+0.25j\n",
            " -2.50000000e-01+0.j        -1.76776695e-01-0.1767767j\n",
            " -1.76776695e-01-0.1767767j -5.55111512e-17-0.25j     ]\n"
          ],
          "name": "stdout"
        }
      ]
    },
    {
      "cell_type": "code",
      "metadata": {
        "id": "x6CUwp9ksDxB",
        "colab_type": "code",
        "colab": {
          "base_uri": "https://localhost:8080/",
          "height": 238
        },
        "outputId": "25e099a6-2269-48a9-bcc8-990cc32e4d29"
      },
      "source": [
        "#inverse QFT manually. Notice that now we will have negative angles.\n",
        "# ---H--R--R--R--------------------  --------------------R--R--R--H---\n",
        "#       |  |  |                                          |  |  |\n",
        "# ------*--|--|--H--R--R-----------  -----------R--R--H--|--|--*------\n",
        "#          |  |     |  |                        |  |     |  |  \n",
        "# ---------*--|-----*--|--H--R-----  -----R--H--|--*-----|--*---------\n",
        "#             |        |     |            |     |        | \n",
        "# ------------*--------*-----*--H--  --H--*-----*--------*------------\n",
        "\n",
        "# qubit 3\n",
        "circuit.h(3)\n",
        "# qubit 2\n",
        "circuit.crot(3, 2, -np.pi / 8)\n",
        "circuit.h(2)\n",
        "# qubit 1\n",
        "circuit.crot(3, 1, -np.pi / 8)\n",
        "circuit.crot(2, 1, -np.pi / 4)\n",
        "circuit.h(1)\n",
        "# qubit 0\n",
        "circuit.crot(3, 0, -np.pi / 8)\n",
        "circuit.crot(2, 0, -np.pi / 4)\n",
        "circuit.crot(1, 0, -np.pi / 2)\n",
        "circuit.h(0)\n",
        "\n",
        "result_qft_rev = circuit.execute()\n",
        "sv_qft_rev = result_qft_rev.get_state_vector()\n",
        "print(\"----- State vector after QFT reversed -----\")\n",
        "print(sv_qft_rev)\n",
        "# lets cut the garbage caused by floats calculations.\n",
        "print(\"\\n----- State vector after QFT reversed (rounded decimals=16) -----\")\n",
        "print(np.around(sv_qft_rev, decimals=16))\n",
        "\n",
        "# To validate not just visually let's compare it using np.testing\n",
        "assert(np.testing.assert_allclose(sv_initial, sv_qft_rev, \\\n",
        "                                  rtol=1e-8, atol=1e-8)) == None"
      ],
      "execution_count": 4,
      "outputs": [
        {
          "output_type": "stream",
          "text": [
            "----- State vector after QFT reversed -----\n",
            "[ 1.68365798e-18+8.12941988e-18j -1.68365798e-18-8.12941988e-18j\n",
            "  1.68365798e-18+1.68365798e-18j  1.79424977e-17-1.68365798e-18j\n",
            "  1.00000000e+00+0.00000000e+00j -8.90187929e-18+0.00000000e+00j\n",
            " -2.79639290e-18+1.09258128e-17j -3.64559186e-17-1.09258128e-17j\n",
            " -1.49797999e-18+1.78248605e-18j  3.48696986e-19+6.93601429e-20j\n",
            "  8.39982398e-19+3.92457343e-19j  6.71794186e-19-4.21925269e-19j\n",
            "  1.16616167e-17-1.01138088e-18j  9.93005002e-19+1.48613701e-18j\n",
            "  8.88250476e-19-3.88802594e-18j -4.38115794e-18+1.59089153e-18j]\n",
            "\n",
            "----- State vector after QFT reversed (rounded decimals=16) -----\n",
            "[ 0.+0.j -0.-0.j  0.+0.j  0.-0.j  1.+0.j -0.+0.j -0.+0.j -0.-0.j -0.+0.j\n",
            "  0.+0.j  0.+0.j  0.-0.j  0.-0.j  0.+0.j  0.-0.j -0.+0.j]\n"
          ],
          "name": "stdout"
        }
      ]
    },
    {
      "cell_type": "markdown",
      "metadata": {
        "id": "HG8BoelX5GOO",
        "colab_type": "text"
      },
      "source": [
        "We can see that the output after transformation is exactly the same except\n",
        "that we have some confusing differenses on signs, but it appears only on zeroes and caused because of not perfect precision calculations. So we should not really care about it. Just a little experiment to prove that it doen't affect anything."
      ]
    },
    {
      "cell_type": "code",
      "metadata": {
        "id": "qVY8wlzf5mIj",
        "colab_type": "code",
        "colab": {
          "base_uri": "https://localhost:8080/",
          "height": 85
        },
        "outputId": "a17166c8-20bb-4bab-a678-1fdf5293389e"
      },
      "source": [
        "a = -0.-0.j\n",
        "b = -0.+0.j\n",
        "c = +0.-0.j\n",
        "d = +0.+0.j\n",
        "e = 0.+0.j\n",
        "f = 0.-0.j\n",
        "print(a == b == c == d == e == f) # expecting True\n",
        "print(a - 1.-1j == b - 1.-1j == c - 1.-1j ==\\\n",
        "      d - 1.-1j == e - 1.-1j == f- 1.-1j) # expecting True\n",
        "\n",
        "a = 1.-0.j\n",
        "b = 1.+0.j\n",
        "print(a == b) # expecting True\n",
        "\n",
        "a = 1.-0.j\n",
        "b = -1.-0.j\n",
        "print(a == b) # expecting False"
      ],
      "execution_count": 5,
      "outputs": [
        {
          "output_type": "stream",
          "text": [
            "True\n",
            "True\n",
            "True\n",
            "False\n"
          ],
          "name": "stdout"
        }
      ]
    },
    {
      "cell_type": "markdown",
      "metadata": {
        "id": "2rAITn-ljkTS",
        "colab_type": "text"
      },
      "source": [
        "### 3. `qft` and `qft_rev`.\n",
        "Let's take a look at the function's code inside the library.\n",
        "We can see that they accept 2 indexes which represent between which qubits we want to apply QFT. notice that both indexes are included."
      ]
    },
    {
      "cell_type": "code",
      "metadata": {
        "id": "spszVEx4kEk2",
        "colab_type": "code",
        "colab": {}
      },
      "source": [
        "  # The method from the class Circuit to apply QFT to the given range of qubits.\n",
        "  def qft(self, first: int, last: int) -> None:\n",
        "    self._check_input(first, last, only_positive=True)  # currently only positive indcies are acceptable.\n",
        "    for crnt in range(first, last + 1):                 # iterating from first qubit to the last one.\n",
        "      self.h(crnt)                                        # applying a Hadamard on each step.\n",
        "      for i in range(crnt, last):                         # iterating from crnt qubit to the last one.\n",
        "        angle = np.pi / (2 ** (i + 1))                      # calculating the angle for CROT. \n",
        "        self.crot(i + 1, crnt, angle)                       # applying CROT to the crnt qubit. \n",
        "\n",
        "  # The method from the class Circuit to apply reversed QFT to the given range of qubits.\n",
        "  # The logic is exactly the same except we start from the last qubit going up.\n",
        "  def qft_rev(self, first: int, last: int) -> None: \n",
        "    self._check_input(first, last, only_positive=True)  # currently only positive indcies are acceptable.\n",
        "    for crnt in reversed(range(first, last + 1)):       # iterating from first qubit to the last one.\n",
        "      for i in reversed(range(crnt, last)):               # iterating from crnt qubit to the last one.\n",
        "        angle = -1 * np.pi / (2 ** (i + 1))                 # calculating the opposite angle for CROT.\n",
        "        self.crot(i + 1, crnt, angle)                       # applying CROT to the crnt qubit.\n",
        "      self.h(crnt)                                        # applying a Hadamard on each step."
      ],
      "execution_count": 6,
      "outputs": []
    },
    {
      "cell_type": "markdown",
      "metadata": {
        "id": "H94ADYdZlxGq",
        "colab_type": "text"
      },
      "source": [
        "Let's validate that our `qft_rev` indeed returns us the initial state."
      ]
    },
    {
      "cell_type": "code",
      "metadata": {
        "id": "Zc_6rKogl7S3",
        "colab_type": "code",
        "colab": {
          "base_uri": "https://localhost:8080/",
          "height": 238
        },
        "outputId": "ae60c015-39a9-4c7e-d164-6dba971024d5"
      },
      "source": [
        "# creating a circuit and getting state vector before QFT.\n",
        "circuit = qcs.circuit_init(3)\n",
        "circuit.x(0)\n",
        "circuit.h(0)\n",
        "circuit.x(1)\n",
        "circuit.h(1)\n",
        "circuit.x(2)\n",
        "circuit.h(2)\n",
        "sv_initial = circuit.execute().get_state_vector()\n",
        "\n",
        "# applying QFT and getting state vector\n",
        "circuit.qft(0, 2)\n",
        "sv_qft = circuit.execute().get_state_vector() \n",
        "\n",
        "# applying reverse QFT and getting state vector.\n",
        "# Expecting to get the same vector before applying QFT.\n",
        "circuit.qft_rev(0, 2)\n",
        "sv_qft_rev = circuit.execute().get_state_vector()\n",
        "\n",
        "print(\"----- Initial SV -----\")\n",
        "print(sv_initial, \"\\n\")\n",
        "\n",
        "print(\"----- SV after QFT -----\")\n",
        "print(sv_qft, \"\\n\")\n",
        "\n",
        "print(\"----- SV after reverse QFT -----\")\n",
        "print(np.around(sv_qft_rev, decimals=5))\n",
        "\n",
        "# To validate not just visually let's compare vectors using np.testing\n",
        "assert(np.testing.assert_allclose(sv_initial, sv_qft_rev, \\\n",
        "                                  rtol=1e-8, atol=1e-8)) == None"
      ],
      "execution_count": 7,
      "outputs": [
        {
          "output_type": "stream",
          "text": [
            "----- Initial SV -----\n",
            "[ 0.35355339+0.j -0.35355339+0.j -0.35355339+0.j  0.35355339+0.j\n",
            " -0.35355339+0.j  0.35355339+0.j  0.35355339+0.j -0.35355339+0.j] \n",
            "\n",
            "----- SV after QFT -----\n",
            "[ 1.90505075e-52+0.00000000e+00j -1.03553391e-01-2.50000000e-01j\n",
            "  9.11379035e-20-2.20026363e-19j  5.00000000e-01-2.74444113e-17j\n",
            "  1.92058443e-35+0.00000000e+00j  6.03553391e-01-2.50000000e-01j\n",
            "  5.31190629e-19+2.20026363e-19j  9.03125231e-17+5.00000000e-01j] \n",
            "\n",
            "----- SV after reverse QFT -----\n",
            "[ 0.35355+0.j -0.35355-0.j -0.35355-0.j  0.35355+0.j -0.35355+0.j\n",
            "  0.35355+0.j  0.35355+0.j -0.35355-0.j]\n"
          ],
          "name": "stdout"
        }
      ]
    },
    {
      "cell_type": "markdown",
      "metadata": {
        "id": "_E60LRwayP2F",
        "colab_type": "text"
      },
      "source": [
        "---\n",
        "### Experiments with QFT:\n",
        "In the following colab I am trying to make some periodic functions, play with QFT and implement quantum phase estimation algorithm.\\\n",
        "Code here is in progress and may not work properly and may not be clear, don't take it too serios :) \\\n",
        "https://colab.research.google.com/drive/1IaP_d-LEr-BPWCaQhCpZRkjGf9uABgKx"
      ]
    },
    {
      "cell_type": "markdown",
      "metadata": {
        "id": "Dfhxn6i2DcF_",
        "colab_type": "text"
      },
      "source": [
        "--- \n",
        "#### Thank you!\n",
        "All info and updates for the lib can be found on the project's repo on GitHub: \\\n",
        "https://github.com/katolikyan/QCSimulator \\\n",
        "Do not hesitate to open an issue and contribute :)\n"
      ]
    }
  ]
}
