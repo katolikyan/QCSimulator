{
  "nbformat": 4,
  "nbformat_minor": 0,
  "metadata": {
    "colab": {
      "name": "QCSimulator Basics tutorial.ipynb",
      "provenance": [],
      "collapsed_sections": [],
      "toc_visible": true
    },
    "kernelspec": {
      "name": "python3",
      "display_name": "Python 3"
    }
  },
  "cells": [
    {
      "cell_type": "markdown",
      "metadata": {
        "id": "WF4BV9baJogx",
        "colab_type": "text"
      },
      "source": [
        "# Quantum Circuit Simulator Basics\n",
        "---"
      ]
    },
    {
      "cell_type": "markdown",
      "metadata": {
        "id": "hblezazqPGyj",
        "colab_type": "text"
      },
      "source": [
        "### Instalation."
      ]
    },
    {
      "cell_type": "code",
      "metadata": {
        "id": "tue_utLkHb6r",
        "colab_type": "code",
        "colab": {}
      },
      "source": [
        "#instaling the library \\\n",
        "!git clone https://github.com/katolikyan/QCSimulator.git\n",
        "!pip3 install QCSimulator/"
      ],
      "execution_count": null,
      "outputs": []
    },
    {
      "cell_type": "markdown",
      "metadata": {
        "id": "mbNZ7IitQj8a",
        "colab_type": "text"
      },
      "source": [
        "### The beginning: Circuit initialization.\n",
        "To start we have to import `qcsimulator` library. \\\n",
        "The only function we will use there is `qcs.circuit_init()` which accepts the number of desired qubits. \\\n",
        "*(Calculations cost grows very quick so I would recomend to keep the number of qubits between 1 and 20)*."
      ]
    },
    {
      "cell_type": "code",
      "metadata": {
        "id": "iQMGVGiFOmpV",
        "colab_type": "code",
        "colab": {}
      },
      "source": [
        "import qcsimulator as qcs\n",
        "\n",
        "# creating the circuit with 2 qubits on the register:\n",
        "circuit = qcs.circuit_init(2)"
      ],
      "execution_count": null,
      "outputs": []
    },
    {
      "cell_type": "markdown",
      "metadata": {
        "id": "FSIAadZlRvzM",
        "colab_type": "text"
      },
      "source": [
        "### Appling gates: \n",
        "To apply a gate to the circuit we are going to call a method form a circuit. \\\n",
        "Methods are accepting qubits index on which we want to apply a gate. \\\n",
        "Like in a python List index can be negative as well. \\\n",
        "\\\n",
        "If it is a control-like gate the method accepts 2 qubits. The first index is used for a control connection and the second is for operation.\n",
        "\n",
        "Gates available on this build: \\\n",
        "* `i`  — (I) identity gate. \\\n",
        "* `x` — Pauli-X (NOT) gate. \\\n",
        "* `y` — Pauli-Y gate \\\n",
        "* `z` — Pauli-Z gate \\\n",
        "* `h` — H (Hadamard) gate \\\n",
        "* `t` — T gate \\\n",
        "* `ci` — control-identity. *(just a connection of 2 qubits)*\n",
        "* `cx` — CNOT gate \\\n",
        "* `cz` — CZ gate \\\n",
        "* `cy` — CY gate \\\n",
        "* `ch` — CH gate \\\n",
        "* `rx` — rotation through angle $\\theta$ (radians) around the x-axis \\\n",
        "* `ry` — rotation through angle $\\theta$ (radians) around the y-axis \\\n",
        "* `rz` — rotation through angle $\\theta$ (radians) around the z-axis \\\n",
        "* `rot` — Phase rotaion through angle $\\theta$ (radians) gate \n",
        "* `swap` — SWAP gate swaps the state of the two qubits \n",
        "* `crot` — controlled phase shift with angle $\\theta$ (radians) \n"
      ]
    },
    {
      "cell_type": "code",
      "metadata": {
        "id": "-y0qfl3NR_SM",
        "colab_type": "code",
        "colab": {}
      },
      "source": [
        "# Applying NOT gate to qubit 0. circuit.x(-2) would be the same in this case.\n",
        "circuit.h(0)\n",
        "\n",
        "# Applying NOT gate to qubit 1. circuit.x(-1) would be the same in this case.\n",
        "circuit.x(1)\n",
        "\n",
        "# Applying CNOT gate to qubit 0 and qubit 1. \n",
        "# circuit.x(-2, -1) would be the same in this case.\n",
        "circuit.cx(0, 1)\n",
        "\n",
        "# Resulting cirquit would look like this:\n",
        "#  {q0}-H--*---\n",
        "#          | \n",
        "#  {q1}-X--X---"
      ],
      "execution_count": null,
      "outputs": []
    },
    {
      "cell_type": "markdown",
      "metadata": {
        "id": "xUXnaoChWQAe",
        "colab_type": "text"
      },
      "source": [
        "### Execution. Results. \n",
        "Now, when we have built a circuit, we need to execute it. \\\n",
        "To do that we are going to call the `circuit.execute()` method which will return us an Ececution_result class object. \\\n",
        "\\\n",
        "This object contains our wave function state and some methods to get the state vector, probabilities, or random bitstring probability. \\\n",
        "Thus we have next methods: \\\n",
        "\n",
        "```python\n",
        "get_state_vector()\n",
        "```\n",
        "* returns state vector as `np.ndarray`\n",
        "\n",
        "```python\n",
        "get_state_tensor()\n",
        "```\n",
        "* returns state tensor as `np.ndarray`\n",
        "\n",
        "```python\n",
        "get_all_probabilities()\n",
        "```\n",
        "* returns table of probabilities as `dict`\n",
        "\n",
        "```python\n",
        "get_bitstr_probability(bitstring: str = None)\n",
        "```\n",
        "* returns probabilitie for a given bitstring or for rundom one if nothing was provided\n",
        "\n",
        "```python\n",
        "get_single_qubit_probability(n_qubit: int)\n",
        "``` \n",
        "* returns probabilitie for a specific qubit as a `dict` with probs to get `0` and `1`\n",
        "\n",
        "```python\n",
        "get_n_qubit_probability(start: int, stop: int)\n",
        "```\n",
        "* returns probabilitie for a slise of qbits as a `dict`\n",
        "\n",
        "\n",
        "```python\n",
        "measure_all(shots: int = 32)\n",
        "```\n",
        "* simulates measurments and returns results for evety shot in a `list`\n",
        "\n",
        "\\\n",
        "\n",
        "Let's apply those methods and get some results. For that we at first have to execute the circuit."
      ]
    },
    {
      "cell_type": "code",
      "metadata": {
        "id": "mxtH6winVPQx",
        "colab_type": "code",
        "colab": {
          "base_uri": "https://localhost:8080/",
          "height": 289
        },
        "outputId": "f7e330f5-f770-441d-f120-006dcdad1b1a"
      },
      "source": [
        "result = circuit.execute() # circuit execution\n",
        "\n",
        "# getting the state vector.\n",
        "statevector = result.get_state_vector()\n",
        "print(\"StateVector: \\n\", statevector, \"\\n\")\n",
        "\n",
        "# We can also get the state tensor.\n",
        "statetensor = result.get_state_tensor()\n",
        "print(\"StateTensor: \\n\", statetensor, \"\\n\")\n",
        "\n",
        "# getting all the probabilities\n",
        "probs = result.get_all_probabilities()\n",
        "print(\"Probabilities: \\n\", probs, \"\\n\")\n",
        "\n",
        "# getting the probabilitie for \"01\" where 1 is the 1st qubit and 0 is the 2nd\n",
        "bitstr_prob = result.get_bitstr_probability(\"01\")\n",
        "print(\"Prob for '01': \\n\", bitstr_prob, \"\\n\")\n",
        "\n",
        "# getting the prob for a single qubit\n",
        "single_prob = result.get_single_qubit_probability(0)\n",
        "print(\"Prob single qubit 0: \\n\", single_prob, \"\\n\")"
      ],
      "execution_count": null,
      "outputs": [
        {
          "output_type": "stream",
          "text": [
            "StateVector: \n",
            " [0.        +0.j 0.70710678+0.j 0.70710678+0.j 0.        +0.j] \n",
            "\n",
            "StateTensor: \n",
            " [[0.        +0.j 0.70710678+0.j]\n",
            " [0.70710678+0.j 0.        +0.j]] \n",
            "\n",
            "Probabilities: \n",
            " {'00': 0.0, '01': 0.4999999999999999, '10': 0.4999999999999999, '11': 0.0} \n",
            "\n",
            "Prob for '01': \n",
            " {'01': 0.4999999999999999} \n",
            "\n",
            "Prob single qubit 0: \n",
            " {'0': 0.4999999999999999, '1': 0.4999999999999999} \n",
            "\n"
          ],
          "name": "stdout"
        }
      ]
    },
    {
      "cell_type": "markdown",
      "metadata": {
        "id": "buwwD8Z8Jz9I",
        "colab_type": "text"
      },
      "source": [
        "Here we are trying to simulate the process and print the distribution we get"
      ]
    },
    {
      "cell_type": "code",
      "metadata": {
        "id": "RIOUsfF-Jy1d",
        "colab_type": "code",
        "colab": {
          "base_uri": "https://localhost:8080/",
          "height": 367
        },
        "outputId": "a4e7991f-725f-424f-db8d-f67b035993b3"
      },
      "source": [
        "import matplotlib.pyplot as plt\n",
        "\n",
        "# getting distribution for 64 shots\n",
        "sim_res = result.measure_all(shots=8)\n",
        "print(\"results : \\n\", sim_res, \"\\n\")\n",
        "plt.hist(sim_res)"
      ],
      "execution_count": null,
      "outputs": [
        {
          "output_type": "stream",
          "text": [
            "results : \n",
            " ['01', '10', '01', '01', '01', '01', '10', '01'] \n",
            "\n"
          ],
          "name": "stdout"
        },
        {
          "output_type": "execute_result",
          "data": {
            "text/plain": [
              "(array([6., 0., 0., 0., 0., 0., 0., 0., 0., 2.]),\n",
              " array([0. , 0.1, 0.2, 0.3, 0.4, 0.5, 0.6, 0.7, 0.8, 0.9, 1. ]),\n",
              " <a list of 10 Patch objects>)"
            ]
          },
          "metadata": {
            "tags": []
          },
          "execution_count": 5
        },
        {
          "output_type": "display_data",
          "data": {
            "image/png": "[encoded data removed]",
            "text/plain": [
              "<Figure size 432x288 with 1 Axes>"
            ]
          },
          "metadata": {
            "tags": [],
            "needs_background": "light"
          }
        }
      ]
    },
    {
      "cell_type": "markdown",
      "metadata": {
        "id": "GUIPfJxReJSN",
        "colab_type": "text"
      },
      "source": [
        "---\n",
        "# Circuit Examples. \n",
        "In this section, we are going to create some simple circuits as an example of code."
      ]
    },
    {
      "cell_type": "markdown",
      "metadata": {
        "id": "OL900MoPed-8",
        "colab_type": "text"
      },
      "source": [
        "### Circuit #1\n",
        "![Circuit_1](https://drive.google.com/uc?id=1c2TvHXGvq31aWxWj-CTo7fw6NJcgWIJa)"
      ]
    },
    {
      "cell_type": "code",
      "metadata": {
        "id": "a1Ix4fqweSPB",
        "colab_type": "code",
        "colab": {
          "base_uri": "https://localhost:8080/",
          "height": 102
        },
        "outputId": "5061e76b-a224-47f2-da04-77ce10dc9119"
      },
      "source": [
        "circuit = qcs.circuit_init(2) # Circuit initialization\n",
        "circuit.h(0)                  # Hadamart on qubit 0\n",
        "circuit.cx(0, 1)              # CNOT on qubit 0 and 1\n",
        "result = circuit.execute()    # execution of the circuit\n",
        "\n",
        "# Getting the statevector:\n",
        "state_vector = result.get_state_vector()\n",
        "# Getting the random probability in little endian:\n",
        "randbitstr = result.get_bitstr_probability()\n",
        "\n",
        "print(\"StateVector:\\n\", state_vector, \"\\n\")\n",
        "print(\"Random Probability:\\n\", randbitstr)"
      ],
      "execution_count": null,
      "outputs": [
        {
          "output_type": "stream",
          "text": [
            "StateVector:\n",
            " [0.70710678+0.j 0.        +0.j 0.        +0.j 0.70710678+0.j] \n",
            "\n",
            "Random Probability:\n",
            " {'10': 0.0}\n"
          ],
          "name": "stdout"
        }
      ]
    },
    {
      "cell_type": "markdown",
      "metadata": {
        "id": "vjB5ZkpPhbEM",
        "colab_type": "text"
      },
      "source": [
        "### Circuit #2\n",
        "![Circuit_2](https://drive.google.com/uc?id=1YQprI_QpCSZI2c_bmS5_0-1Lu78Q4-tW)"
      ]
    },
    {
      "cell_type": "code",
      "metadata": {
        "id": "hFmtrN7ahs6k",
        "colab_type": "code",
        "colab": {
          "base_uri": "https://localhost:8080/",
          "height": 102
        },
        "outputId": "e1dbb1b9-fd35-4727-fbc7-fc1b70d71ca9"
      },
      "source": [
        "circuit = qcs.circuit_init(2)\n",
        "circuit.x(1)\n",
        "circuit.cx(0, 1)\n",
        "circuit.cx(1, 0)\n",
        "circuit.cx(0, 1)\n",
        "result = circuit.execute()\n",
        "\n",
        "state_vector = result.get_state_vector()\n",
        "# Get all the probabilities in little-endian:\n",
        "all_probs = result.get_all_probabilities()\n",
        "\n",
        "print(\"StateVector:\\n\", state_vector, \"\\n\")\n",
        "print(\"All the robabilities:\\n\", all_probs)"
      ],
      "execution_count": null,
      "outputs": [
        {
          "output_type": "stream",
          "text": [
            "StateVector:\n",
            " [0.+0.j 1.+0.j 0.+0.j 0.+0.j] \n",
            "\n",
            "All the robabilities:\n",
            " {'00': 0.0, '01': 1.0, '10': 0.0, '11': 0.0}\n"
          ],
          "name": "stdout"
        }
      ]
    },
    {
      "cell_type": "markdown",
      "metadata": {
        "id": "Wi-iVhijhtNW",
        "colab_type": "text"
      },
      "source": [
        "### Circuit #3\n",
        "This circuit will prove that all gates are unitary and state can be reversed.\n",
        "![circuit_3](https://drive.google.com/uc?id=1i-PwTSHjzr4Fvl5cFPXLKa8gRUIqsCer)\n"
      ]
    },
    {
      "cell_type": "code",
      "metadata": {
        "id": "SfUfzNWekKAu",
        "colab_type": "code",
        "colab": {
          "base_uri": "https://localhost:8080/",
          "height": 459
        },
        "outputId": "9c50c8f1-5670-452e-8601-2c97b4587d69"
      },
      "source": [
        "circuit = qcs.circuit_init(3)\n",
        "\n",
        "# Applying all the gates. Please notice that the order matters:\n",
        "circuit.y(0)\n",
        "circuit.h(1)\n",
        "circuit.x(2)\n",
        "circuit.cx(0, 1)\n",
        "circuit.h(0)\n",
        "circuit.cz(1, 2)\n",
        "circuit.cy(0, 2)\n",
        "circuit.cy(0, 2)\n",
        "circuit.cz(1, 2)\n",
        "circuit.h(0)\n",
        "circuit.cx(0, 1)\n",
        "circuit.x(2)\n",
        "circuit.h(1)\n",
        "circuit.y(0)\n",
        "\n",
        "# Getting the result:\n",
        "result = circuit.execute()\n",
        "\n",
        "# Let's get all the possible data:\n",
        "# state_vector, state_tensor.\n",
        "# all probs, random prob and particular probs.\n",
        "state_vector = result.get_state_vector()\n",
        "state_tensor = result.get_state_tensor()\n",
        "all_probs = result.get_all_probabilities()\n",
        "rand_prob = result.get_bitstr_probability()\n",
        "bitstirng_prob_1 = result.get_bitstr_probability(\"000\")\n",
        "bitstirng_prob_2 = result.get_bitstr_probability(\"011\")\n",
        "\n",
        "# Let's print it out:\n",
        "print(\"State Vector:\\n\", state_vector, \"\\n\")\n",
        "print(\"State Tensor:\\n\", state_tensor, \"\\n\")\n",
        "\n",
        "print(\"--- Probabilities ---\\n\")\n",
        "print(\"All the probabilities.:\\n\", all_probs, \"\\n\")\n",
        "print(\"Random Probability.:\\n\", rand_prob, \"\\n\")\n",
        "print(\"Pribability for specific bitstring 1:\\n\", bitstirng_prob_1, \"\\n\")\n",
        "print(\"Pribability for specific bitstring 2:\\n\", bitstirng_prob_2, \"\\n\")"
      ],
      "execution_count": null,
      "outputs": [
        {
          "output_type": "stream",
          "text": [
            "State Vector:\n",
            " [ 1.00000000e+00+0.j  1.23259516e-32+0.j  1.23259516e-32+0.j\n",
            " -1.23259516e-32+0.j  0.00000000e+00+0.j  0.00000000e+00+0.j\n",
            "  0.00000000e+00+0.j  0.00000000e+00+0.j] \n",
            "\n",
            "State Tensor:\n",
            " [[[ 1.00000000e+00+0.j  0.00000000e+00+0.j]\n",
            "  [ 1.23259516e-32+0.j  0.00000000e+00+0.j]]\n",
            "\n",
            " [[ 1.23259516e-32+0.j  0.00000000e+00+0.j]\n",
            "  [-1.23259516e-32+0.j  0.00000000e+00+0.j]]] \n",
            "\n",
            "--- Probabilities ---\n",
            "\n",
            "All the probabilities.:\n",
            " {'000': 0.9999999999999991, '001': 1.5192908393215678e-64, '010': 1.5192908393215678e-64, '011': 1.5192908393215678e-64, '100': 0.0, '101': 0.0, '110': 0.0, '111': 0.0} \n",
            "\n",
            "Random Probability.:\n",
            " {'111': 0.0} \n",
            "\n",
            "Pribability for specific bitstring 1:\n",
            " {'000': 0.9999999999999991} \n",
            "\n",
            "Pribability for specific bitstring 2:\n",
            " {'011': 1.5192908393215678e-64} \n",
            "\n"
          ],
          "name": "stdout"
        }
      ]
    },
    {
      "cell_type": "markdown",
      "metadata": {
        "id": "i31JWKb6no02",
        "colab_type": "text"
      },
      "source": [
        "---\n",
        "### Thank you!\n",
        "All info and updates can be found on the project's repo on GitHub: \\\n",
        "https://github.com/katolikyan/QCSimulator \\\n",
        "Do not hesitate to open an issue and contribute :)"
      ]
    }
  ]
}
