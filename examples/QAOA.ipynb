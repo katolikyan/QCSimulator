{
  "nbformat": 4,
  "nbformat_minor": 0,
  "metadata": {
    "colab": {
      "name": "QAOA",
      "provenance": [],
      "collapsed_sections": []
    },
    "kernelspec": {
      "name": "python3",
      "display_name": "Python 3"
    }
  },
  "cells": [
    {
      "cell_type": "markdown",
      "metadata": {
        "id": "dh3ebm06wtVd",
        "colab_type": "text"
      },
      "source": [
        "Structure:\n",
        "  - We will take a look at the algorithm circuit in general.\n",
        "  - Define some graphs to work with.\n",
        "  - Define the necessary functions for the algorithm.\n",
        "  - Try to run the algorithm with different approaches for optimization.\n",
        "  ---"
      ]
    },
    {
      "cell_type": "markdown",
      "metadata": {
        "id": "Ajc_4tparoQV",
        "colab_type": "text"
      },
      "source": [
        "### QAOA:\n",
        "[Original paper](https://arxiv.org/pdf/1411.4028.pdf)\n",
        "\n",
        "Let's take a look at how the circuit would look like:\n",
        "![QAOA circuit](https://drive.google.com/uc?id=1GExQVTasnTP8XAeNinDRQ9fCUT07vpo8)\n",
        "\n",
        "Note that this is just a general example. \\\n",
        "Here each qubit represents a node in a graph. \\\n",
        "First of all, we are preparing a circuit by getting superposition of all qubits. \\\n",
        "Then applying the Ising ZZ gate with angle $\\gamma$ for each pair of $i$ $j$ which represents an edge. \\\n",
        "In the end - applying Rx rotation gate with angle $\\beta$ to all the qubits. \\\n",
        "We are repeating that $p$ times and at the very end measuring the result. \\\n",
        "\n",
        " Having perfect angles would give us a bitstring where 1 and 0 are representing different partitions for the graph. We are expecting the approximation ratio to be at least 0.6924. which means we are likely will get a cut which is at least 0.69 times the best possible cut. \\\n",
        "To get the best angles we are going to use classical methods, trying to minimize or maximize the objective function. \\\n",
        "\n",
        "\n",
        "Note that with growing $p$ the depth of the circuit will grow by a number of edges multiplyed on p + p. \\\n",
        "$p$ basically describes how many angles sets we are going to use. Using more angles gives us better results. \\\n",
        "\n",
        "---\n"
      ]
    },
    {
      "cell_type": "code",
      "metadata": {
        "id": "YtSGyZkjE6qh",
        "colab_type": "code",
        "colab": {}
      },
      "source": [
        "#instaling the library\n",
        "!git clone https://github.com/katolikyan/QCSimulator.git\n",
        "!pip3 install QCSimulator/"
      ],
      "execution_count": null,
      "outputs": []
    },
    {
      "cell_type": "code",
      "metadata": {
        "id": "FWRKyNGNE9E7",
        "colab_type": "code",
        "colab": {}
      },
      "source": [
        "import qcsimulator as qcs\n",
        "import tensornetwork as tn\n",
        "import numpy as np\n",
        "import networkx as nx\n",
        "import scipy.optimize\n",
        "import matplotlib.pyplot as plt"
      ],
      "execution_count": null,
      "outputs": []
    },
    {
      "cell_type": "markdown",
      "metadata": {
        "id": "yKY-i68jbv_R",
        "colab_type": "text"
      },
      "source": [
        "### Creating some graphs.\n",
        "Let's define a couple of specific graphs that we will use later. \\\n",
        "We are going to use networkx lib for that."
      ]
    },
    {
      "cell_type": "code",
      "metadata": {
        "id": "DkLZwtjMS4So",
        "colab_type": "code",
        "colab": {
          "base_uri": "https://localhost:8080/",
          "height": 248
        },
        "outputId": "bebe6c77-2c23-4e8d-9ef8-4da73ad0aeb8"
      },
      "source": [
        "n = 5 # number of nodes\n",
        "V = np.arange(0, n) # list of nodes\n",
        "E = [(0, 1), (0, 2), (1, 2), (3, 2), (3, 4), (4, 2)] # manually connecting edges\n",
        "graph_btrfly = nx.Graph() # graph init\n",
        "graph_btrfly.add_nodes_from(V)\n",
        "graph_btrfly.add_edges_from(E)\n",
        "nx.draw_networkx(graph_btrfly, node_size=1000)"
      ],
      "execution_count": null,
      "outputs": [
        {
          "output_type": "display_data",
          "data": {
            "image/png": "[encoded data removed]",
            "text/plain": [
              "<Figure size 432x288 with 1 Axes>"
            ]
          },
          "metadata": {
            "tags": []
          }
        }
      ]
    },
    {
      "cell_type": "code",
      "metadata": {
        "id": "zZnGcoe0FPWC",
        "colab_type": "code",
        "colab": {
          "base_uri": "https://localhost:8080/",
          "height": 248
        },
        "outputId": "a1611d4d-6570-4476-d13e-42600189e572"
      },
      "source": [
        "# In this graph we also initializing weights for edges\n",
        "n = 5\n",
        "V = np.arange(0, n)\n",
        "E = [(0, 1, 0.5), (0, 2, 0.9), (1, 2, 0.2), (3, 2, 0.4), (3, 4, 1.0), (4, 2, 0.7)]\n",
        "graph_btrfly_w = nx.Graph()\n",
        "graph_btrfly_w.add_nodes_from(V)\n",
        "graph_btrfly_w.add_weighted_edges_from(E)\n",
        "nx.draw_networkx(graph_btrfly_w, node_size=1000)"
      ],
      "execution_count": null,
      "outputs": [
        {
          "output_type": "display_data",
          "data": {
            "image/png": "[encoded data removed]",
            "text/plain": [
              "<Figure size 432x288 with 1 Axes>"
            ]
          },
          "metadata": {
            "tags": []
          }
        }
      ]
    },
    {
      "cell_type": "code",
      "metadata": {
        "id": "HPdkWrEf3r6-",
        "colab_type": "code",
        "colab": {
          "base_uri": "https://localhost:8080/",
          "height": 248
        },
        "outputId": "bb8f8150-398e-4b30-b94f-0d6c0b73deae"
      },
      "source": [
        "# Just a 3 regular graph. which means each node has 3 edges\n",
        "n = 6\n",
        "V = np.arange(0, n)\n",
        "E = [(0, 1), (0, 3), (0, 4), (1, 2), (1, 5), (2, 3), (2, 5), (3, 4), (4, 5)]\n",
        "graph_3reg_6n = nx.Graph()\n",
        "graph_3reg_6n.add_nodes_from(V)\n",
        "graph_3reg_6n.add_edges_from(E)\n",
        "nx.draw_networkx(graph_3reg_6n, node_size=1000)"
      ],
      "execution_count": null,
      "outputs": [
        {
          "output_type": "display_data",
          "data": {
            "image/png": "[encoded data removed]",
            "text/plain": [
              "<Figure size 432x288 with 1 Axes>"
            ]
          },
          "metadata": {
            "tags": []
          }
        }
      ]
    },
    {
      "cell_type": "markdown",
      "metadata": {
        "id": "SQG8UdyKdf9t",
        "colab_type": "text"
      },
      "source": [
        "---\n",
        "### Defining functions. \n",
        "In the cost function we are counting the number of 'disagreements'. If the node $i$ and $j$ are in different partitions we are incrementing cost by 1. \\\n",
        "This function is going to be the cost of a single bitstring. \\\n",
        "The mean of the sum of all costs for all bitstrings will be our objective function result which we will try to minimize.\n",
        "\n",
        "Theoretically we also could use get_cut_size for that because it is should be kind of the same thing."
      ]
    },
    {
      "cell_type": "code",
      "metadata": {
        "id": "d6fARffWJszZ",
        "colab_type": "code",
        "colab": {}
      },
      "source": [
        "def cost_function(bitstr, graph):\n",
        "  cost = 0\n",
        "  # flipping bitstring because it is in little-end\n",
        "  bitstr = [int(i) for i in bitstr[::-1]] \n",
        "  # checking if the graph has weighted edges.\n",
        "  weighted = nx.is_weighted(graph)        \n",
        "  # checking each edge.\n",
        "  for i, j in graph.edges:\n",
        "    w = graph[i][j]['weight'] if weighted else 1\n",
        "    cost += w * bitstr[i] * (1 - bitstr[j]) + w * bitstr[j] * (1 - bitstr[i])\n",
        "  return cost\n",
        "\n",
        "# NetworkX function that calculates cut size.\n",
        "def get_cut_size(bitstr, graph):\n",
        "  T = []\n",
        "  S = []\n",
        "  # Defining sets S and T according to bitstring. \n",
        "  # Bitstring is in little-end so we are flipping it to get right node indices\n",
        "  for i, val in enumerate(bitstr[::-1]):\n",
        "    if val == '1':\n",
        "      T.append(int(i))\n",
        "    else:\n",
        "      S.append(int(i))\n",
        "  return nx.cut_size(graph, S, T)"
      ],
      "execution_count": null,
      "outputs": []
    },
    {
      "cell_type": "markdown",
      "metadata": {
        "id": "KCNxfw0E1HPK",
        "colab_type": "text"
      },
      "source": [
        "### Build circuit function.\n",
        "Let's define a function that builds a circuit according to provided angles and a graph. \\\n",
        "The number of angles depends on $p$ and initialized outside of the function.\n"
      ]
    },
    {
      "cell_type": "code",
      "metadata": {
        "id": "Sr8mpeM7f-gq",
        "colab_type": "code",
        "colab": {}
      },
      "source": [
        "def build_cirquit(angles, graph, p):\n",
        "  # getting the number of qubits needed and the p\n",
        "  n = len(graph.nodes)\n",
        "  # separating beta and gamma angles\n",
        "  betas = angles[:p]   \n",
        "  gammas = angles[p:]\n",
        "  cirquit = qcs.circuit_init(n)\n",
        "  \n",
        "  # Preparing all the qubits by applying H gate on them\n",
        "  for i in range(n):\n",
        "    cirquit.h(i)\n",
        "  # For p times applying Ising ZZ gates to edges and Rx at the end.\n",
        "  for beta, gamma in zip(betas, gammas):\n",
        "    # Loop represents applying decomposed U(C, gamma)\n",
        "    for i, j in graph.edges:\n",
        "      cirquit.cx(i, j)\n",
        "      cirquit.rz(j, gamma)\n",
        "      cirquit.cx(i, j)\n",
        "    # Loop represents applying U(B, beta)\n",
        "    for i in range(n):\n",
        "      cirquit.rx(i, beta)\n",
        "    \n",
        "  return cirquit"
      ],
      "execution_count": null,
      "outputs": []
    },
    {
      "cell_type": "markdown",
      "metadata": {
        "id": "Ck1m--K42Qrh",
        "colab_type": "text"
      },
      "source": [
        "### Objective function.\n",
        "In the objective function we are:\n",
        "- building the circuit with angles and measuring it.\n",
        "- calculating the cost of all the bitstring.\n",
        "- returning the mean of costs. \\\n",
        "\n",
        "we are trying to reach the biggest mean cost value for the number of measured bitstrings. But because we are trying to minimize the function (using skipy) we are returning negative mean trying to find angles that give the lowest result. \\\n",
        "\n",
        "Instead of getting some N number of bitstrings we could just evaluate wavefunction. Take a look at all probabilities and calculate the result. \\\n",
        "But in real QC we would measure multiple times to get some distribution."
      ]
    },
    {
      "cell_type": "code",
      "metadata": {
        "id": "cAGq3nOOHD6q",
        "colab_type": "code",
        "colab": {}
      },
      "source": [
        "def objective(angles, graph, p):\n",
        "  # building and executing the circuit\n",
        "  cirquit = build_cirquit(angles, graph, p)\n",
        "  result = cirquit.execute()\n",
        "  # getting randomly guessed bitstrings according to probabilities. Measurement equivalent.\n",
        "  bitstrings = result.measure_all(shots=256)\n",
        "\n",
        "  costs = []\n",
        "  # calculating cost for each bitstring we've got\n",
        "  for bitstr in bitstrings:\n",
        "    costs.append(cost_function(bitstr, graph))\n",
        "\n",
        "  # returning negative average because we need to minimize the function.\n",
        "  return -np.mean(costs) "
      ],
      "execution_count": null,
      "outputs": []
    },
    {
      "cell_type": "markdown",
      "metadata": {
        "id": "26NxoQ1Xthsk",
        "colab_type": "text"
      },
      "source": [
        "---\n",
        "### Guessing the best angles.\n",
        "For now, let's consider $p = 1$, So we have only 2 parameters: $\\gamma, \\beta$. \\\n",
        "Let's take a look at how objective function looks like for a specific graph. \\\n",
        "To find the best angles we will simply search in some possible combinations of $\\gamma$ and $\\beta$ and take a look at which angels give us the minimum for the function. \n",
        "So the minimum we are printing represents the mean cut with the opposite sign we are getting from the objective function."
      ]
    },
    {
      "cell_type": "code",
      "metadata": {
        "id": "8fnxlpYBonHy",
        "colab_type": "code",
        "colab": {
          "base_uri": "https://localhost:8080/",
          "height": 299
        },
        "outputId": "7ba9a6e4-d9b7-4d64-a2a6-994c7da9b6e1"
      },
      "source": [
        "# choosing a graph: graph_btrfly, graph_btrfly_w, graph_3reg_6n\n",
        "graph = graph_btrfly\n",
        "p = 1 \n",
        "\n",
        "# defining the step size to iterate between 0 and 2pi\n",
        "step = 15\n",
        "values = []\n",
        "angles = []\n",
        "# iterating thgrough all the combinations.\n",
        "for gamma in np.linspace(0, 2 * np.pi, step):\n",
        "  for beta in np.linspace(0, 2 * np.pi, step):\n",
        "    # Getting a result from objective function with given angles.\n",
        "    cost = objective([gamma, beta], graph, p)\n",
        "    values.append(cost)\n",
        "    angles.append((gamma, beta))\n",
        "  \n",
        "# getting the best minimum value index\n",
        "idx = np.argmin(values)\n",
        "\n",
        "# printing the grid and best angles.\n",
        "plt.imshow(np.array(values).reshape(step, step))\n",
        "print(\"The minimum found :\", values[idx])\n",
        "print(\"The angles ______ :\", angles[idx])"
      ],
      "execution_count": null,
      "outputs": [
        {
          "output_type": "stream",
          "text": [
            "The minimum found : -3.8203125\n",
            "The angles ______ : (5.385587406153931, 0.4487989505128276)\n"
          ],
          "name": "stdout"
        },
        {
          "output_type": "display_data",
          "data": {
            "image/png": "[encoded data removed]",
            "text/plain": [
              "<Figure size 432x288 with 1 Axes>"
            ]
          },
          "metadata": {
            "tags": []
          }
        }
      ]
    },
    {
      "cell_type": "code",
      "metadata": {
        "id": "gQu33ioIziVd",
        "colab_type": "code",
        "colab": {
          "base_uri": "https://localhost:8080/",
          "height": 435
        },
        "outputId": "c0d6544b-efc0-4d9b-cc3b-6da1ee1159ae"
      },
      "source": [
        "# Let's build a circuit with those angles and pick some random bitstrings. \n",
        "guess_cirquit = build_cirquit(angles[idx], graph, p)\n",
        "result = guess_cirquit.execute()\n",
        "# lets measure 3 times:\n",
        "bitstrings = result.measure_all(shots=3)\n",
        "for bitstr in bitstrings:\n",
        "  print(\"Measured bitstring : \", bitstr)\n",
        "  print(\"cut size _________ : \", get_cut_size(bitstr, graph))\n",
        "print(\"------\")\n",
        "\n",
        "# -----\n",
        "# We can take a look to cuts distribution if we measure let's say a 10k times\n",
        "bitstrings = result.measure_all(shots=10000)\n",
        "\n",
        "cuts = {}\n",
        "for i, enge in enumerate(graph.edges):\n",
        "  cuts[i] = 0\n",
        "for bitstr in bitstrings:\n",
        "  cuts[get_cut_size(bitstr, graph)] += 1\n",
        "\n",
        "print(\"Distribution of cuts: \", cuts, \"\\n\")\n",
        "plt.bar(cuts.keys(), cuts.values())\n",
        "\n",
        "# Of course, we could just look at all bitstring probabilities and calculate\n",
        "# probabilities for getting a specific cut:\n",
        "cut_probs = {}\n",
        "for i, enge in enumerate(graph.edges):\n",
        "  cut_probs[i] = 0\n",
        "probs = result.get_all_probabilities()\n",
        "for bitstr, prob in probs.items():\n",
        "  cut_probs[get_cut_size(bitstr, graph)] += prob\n",
        "\n",
        "print(\"Cuts probabilities :\", cut_probs)"
      ],
      "execution_count": null,
      "outputs": [
        {
          "output_type": "stream",
          "text": [
            "Measured bitstring :  00100\n",
            "cut size _________ :  4\n",
            "Measured bitstring :  01100\n",
            "cut size _________ :  4\n",
            "Measured bitstring :  01011\n",
            "cut size _________ :  4\n",
            "------\n",
            "Distribution of cuts:  {0: 157, 1: 0, 2: 845, 3: 0, 4: 8998, 5: 0} \n",
            "\n",
            "Cuts probabilities : {0: 0.015310156245308158, 1: 0, 2: 0.08452736559412888, 3: 0, 4: 0.9001624781605622, 5: 0}\n"
          ],
          "name": "stdout"
        },
        {
          "output_type": "display_data",
          "data": {
            "image/png": "[encoded data removed]",
            "text/plain": [
              "<Figure size 432x288 with 1 Axes>"
            ]
          },
          "metadata": {
            "tags": []
          }
        }
      ]
    },
    {
      "cell_type": "markdown",
      "metadata": {
        "id": "oFsEqdqyGZCn",
        "colab_type": "text"
      },
      "source": [
        "---\n",
        "### 3 regular graph.\n",
        "let's build graphs which would represent all possible subgraphs of 3 regular connected graph with distance $p = 1$"
      ]
    },
    {
      "cell_type": "code",
      "metadata": {
        "id": "5L11UC5MERqI",
        "colab_type": "code",
        "colab": {}
      },
      "source": [
        "# g4 subgraph\n",
        "n = 4 # number of nodes\n",
        "V = np.arange(0, n)  # list of nodes\n",
        "E = [(0, 1), (0, 3), (0, 2), (1, 2), (2, 3)] # manually connecting edges\n",
        "g4 = nx.Graph() # graph init\n",
        "g4.add_nodes_from(V) \n",
        "g4.add_edges_from(E)\n",
        "\n",
        "# g5 subgraph\n",
        "n = 5 # number of nodes\n",
        "V = np.arange(0, n)  # list of nodes\n",
        "E = [(0, 1), (1, 2), (1, 3), (2, 3), (3, 4)] # manually connecting edges\n",
        "g5 = nx.Graph() # graph init\n",
        "g5.add_nodes_from(V) \n",
        "g5.add_edges_from(E)\n",
        "\n",
        "# g6 subgraph\n",
        "n = 6 # number of nodes\n",
        "V = np.arange(0, n)  # list of nodes\n",
        "E = [(0, 1), (1, 2), (1, 3), (3, 4), (3, 5)] # manually connecting edges\n",
        "g6 = nx.Graph() # graph init\n",
        "g6.add_nodes_from(V) \n",
        "g6.add_edges_from(E)"
      ],
      "execution_count": null,
      "outputs": []
    },
    {
      "cell_type": "code",
      "metadata": {
        "id": "z1Bgh6OxJY2V",
        "colab_type": "code",
        "colab": {
          "base_uri": "https://localhost:8080/",
          "height": 248
        },
        "outputId": "09e7ef36-ab02-4509-8384-1abf8631ab8a"
      },
      "source": [
        "nx.draw_networkx(g4, node_size=1000)"
      ],
      "execution_count": null,
      "outputs": [
        {
          "output_type": "display_data",
          "data": {
            "image/png": "[encoded data removed]",
            "text/plain": [
              "<Figure size 432x288 with 1 Axes>"
            ]
          },
          "metadata": {
            "tags": []
          }
        }
      ]
    },
    {
      "cell_type": "code",
      "metadata": {
        "id": "f3YuQL2zJfcs",
        "colab_type": "code",
        "colab": {
          "base_uri": "https://localhost:8080/",
          "height": 248
        },
        "outputId": "631797aa-ab46-4078-e0f5-92d23d8fd653"
      },
      "source": [
        "nx.draw_networkx(g5, node_size=1000)"
      ],
      "execution_count": null,
      "outputs": [
        {
          "output_type": "display_data",
          "data": {
            "image/png": "[encoded data removed]",
            "text/plain": [
              "<Figure size 432x288 with 1 Axes>"
            ]
          },
          "metadata": {
            "tags": []
          }
        }
      ]
    },
    {
      "cell_type": "code",
      "metadata": {
        "id": "pjD6XEMtJc9v",
        "colab_type": "code",
        "colab": {
          "base_uri": "https://localhost:8080/",
          "height": 248
        },
        "outputId": "c338c37d-b0a2-4b53-9a9a-561fc193a12e"
      },
      "source": [
        "nx.draw_networkx(g6, node_size=1000)"
      ],
      "execution_count": null,
      "outputs": [
        {
          "output_type": "display_data",
          "data": {
            "image/png": "[encoded data removed]",
            "text/plain": [
              "<Figure size 432x288 with 1 Axes>"
            ]
          },
          "metadata": {
            "tags": []
          }
        }
      ]
    },
    {
      "cell_type": "markdown",
      "metadata": {
        "id": "NibOvLc0e5BJ",
        "colab_type": "text"
      },
      "source": [
        "According to the paper, the resulting objective function of the graph is a linear combination of all subgraphs described by the distance p. \\\n",
        "\n",
        "$F1 (γ , β ) = Sfg4(γ , β) + (4S + 3T)fg5(γ , β) + (3n − 5S − 3T)fg6(γ , β )$ \\\n",
        "\n",
        "Where $S$ is a number of isolated squares, $T$ - number of isolated triangles, n - number of nodes. \\\n",
        "Isolated $S$ and $T$ look like: \\\n",
        "![Isolated_S_T](https://drive.google.com/uc?id=18MAbHvtaSe77g4oKDKap5zkPcGGwe-p-)\n",
        "To calculate the T and S we have the folowing function:"
      ]
    },
    {
      "cell_type": "code",
      "metadata": {
        "id": "FcmYYBJ7tz9s",
        "colab_type": "code",
        "colab": {}
      },
      "source": [
        "def get_reg3_graph_t_s(graph):\n",
        "  T = 0\n",
        "  S = 0\n",
        "  # looping through all the edges.\n",
        "  for node_1, node_2 in graph.edges:\n",
        "    unique_nodes = 0\n",
        "    neighb_1 = [n for n in graph.neighbors(node_1)]  # all neighbors of node_1\n",
        "    for node in graph.neighbors(node_2):\n",
        "      if node not in neighb_1 and node != node_1: # looking for unique node\n",
        "        unique_nodes += 1\n",
        "  \n",
        "    if unique_nodes == 0:\n",
        "      S += 1\n",
        "    if unique_nodes == 1:\n",
        "      T += 1\n",
        "  \n",
        "  # We are increasing T for each edge with 1 unique neighbor. \n",
        "  # That's why we have to divide by 3. \n",
        "  # For each S found we are also increasing T by 4.\n",
        "  # That's why we have to subtract S * 4 from total T. \n",
        "  T = int((T - S * 4) / 3)\n",
        "  return {'T': T, 'S': S}"
      ],
      "execution_count": null,
      "outputs": []
    },
    {
      "cell_type": "markdown",
      "metadata": {
        "id": "uiCuacM_FBAL",
        "colab_type": "text"
      },
      "source": [
        "### Special objective.\n",
        "The following function will be our new objective for a special case. \\\n",
        "This function potentially can be modified to accept any graph with specific subgraphs, \\\n",
        "but to keep things simple we will hardcode it for 3 regular graph with p = 1. "
      ]
    },
    {
      "cell_type": "code",
      "metadata": {
        "id": "0U5tSkqrC6hS",
        "colab_type": "code",
        "colab": {}
      },
      "source": [
        "def reg3graph_objective(angles, subgraphs, n, S, T, p):\n",
        "  # calculating cost for each subgraph.\n",
        "  f_g4 = objective(angles, subgraphs[0], p)\n",
        "  f_g5 = objective(angles, subgraphs[1], p)\n",
        "  f_g6 = objective(angles, subgraphs[2], p)\n",
        "  # summing according the formula.\n",
        "  f = S * f_g4 + (4 * S + 3 * T) * f_g5 + (3 * n / 2 - 5 * S - 3 * T) * f_g6\n",
        "  return f"
      ],
      "execution_count": null,
      "outputs": []
    },
    {
      "cell_type": "markdown",
      "metadata": {
        "id": "ljncROiLs6cG",
        "colab_type": "text"
      },
      "source": [
        "If we look at our 3 regular graph above we can just easily see the number of $T$ and $S$ in it. \\\n",
        "There are 2 isolated triangles and 0 isolated squares."
      ]
    },
    {
      "cell_type": "code",
      "metadata": {
        "id": "EXYoGh-BN3-b",
        "colab_type": "code",
        "colab": {
          "base_uri": "https://localhost:8080/",
          "height": 470
        },
        "outputId": "1a2266b3-8c80-41cf-f684-3c0537e6f3ca"
      },
      "source": [
        "# Let's build algorithm on 3 regular graph we have created above. There is:\n",
        "graph = graph_3reg_6n\n",
        "# let's just validate we have correct T S\n",
        "ts = get_reg3_graph_t_s(graph)\n",
        "print(\"T and S in the graph: {}\\n\".format(ts))\n",
        "\n",
        "p = 1\n",
        "S = ts['S']\n",
        "T = ts['T']\n",
        "n = len(graph.nodes) # number of nodes.\n",
        "\n",
        "# Defigning angles\n",
        "# size is p * 2 because for optimization we are going to pass betas and gammas\n",
        "# as a list of parameters.\n",
        "angles = np.random.uniform(0, 2 * np.pi, size=(p * 2))\n",
        "# subgraphs for 3 regular connected graph where p = 1\n",
        "subgraphs = [g4, g5, g6]\n",
        "\n",
        "optimization_result = scipy.optimize.minimize(\\\n",
        "  reg3graph_objective, angles, args=(subgraphs, n, S, T, p), method='Powell')\n",
        "# Getting the best angles:\n",
        "optimized_angles = optimization_result.x\n",
        "\n",
        "# -----\n",
        "# building a circuit with those angles. \n",
        "guess_cirquit = build_cirquit(optimized_angles, graph, p)\n",
        "result = guess_cirquit.execute()\n",
        "# lets measure 3 times:\n",
        "bitstrings = result.measure_all(shots=3)\n",
        "for bitstr in bitstrings:\n",
        "  print(\"Measured bitstring : \", bitstr)\n",
        "  print(\"cut size _________ : \", get_cut_size(bitstr, graph))\n",
        "print(\"------\")\n",
        "\n",
        "# -----\n",
        "# Cuts distribution:\n",
        "bitstrings = result.measure_all(shots=10000)\n",
        "cuts = {}\n",
        "for i, enge in enumerate(graph.edges):\n",
        "  cuts[i] = 0\n",
        "for bitstr in bitstrings:\n",
        "  cuts[get_cut_size(bitstr, graph)] += 1\n",
        "\n",
        "print(\"Distribution of cuts: \", cuts, \"\\n\")\n",
        "plt.bar(cuts.keys(), cuts.values())"
      ],
      "execution_count": null,
      "outputs": [
        {
          "output_type": "stream",
          "text": [
            "T and S in the graph: {'T': 2, 'S': 0}\n",
            "\n",
            "Measured bitstring :  010110\n",
            "cut size _________ :  7\n",
            "Measured bitstring :  101011\n",
            "cut size _________ :  6\n",
            "Measured bitstring :  010101\n",
            "cut size _________ :  7\n",
            "------\n",
            "Distribution of cuts:  {0: 19, 1: 0, 2: 0, 3: 359, 4: 546, 5: 2895, 6: 2305, 7: 3876, 8: 0} \n",
            "\n"
          ],
          "name": "stdout"
        },
        {
          "output_type": "execute_result",
          "data": {
            "text/plain": [
              "<BarContainer object of 9 artists>"
            ]
          },
          "metadata": {
            "tags": []
          },
          "execution_count": 17
        },
        {
          "output_type": "display_data",
          "data": {
            "image/png": "[encoded data removed]",
            "text/plain": [
              "<Figure size 432x288 with 1 Axes>"
            ]
          },
          "metadata": {
            "tags": []
          }
        }
      ]
    },
    {
      "cell_type": "markdown",
      "metadata": {
        "id": "veH2RgEA39wl",
        "colab_type": "text"
      },
      "source": [
        "---\n",
        "### $p > 1$\n",
        "Let's now try to get some results with $p > 1$. We can set $p$ and $graph$ variables to what we want and run the cell. Notice that $p >= 3$ takes time to calculate."
      ]
    },
    {
      "cell_type": "code",
      "metadata": {
        "id": "cHQHGKvAkZQx",
        "colab_type": "code",
        "colab": {
          "base_uri": "https://localhost:8080/",
          "height": 435
        },
        "outputId": "f87c89fb-2f6a-4ed2-da2a-72c2464e4f5b"
      },
      "source": [
        "# choosing our p and graph:\n",
        "p = 3\n",
        "graph = graph_3reg_6n # graph_btrfly, graph_btrfly_w or graph_3reg_6n or random\n",
        "angles = np.random.uniform(0, 2 * np.pi, size=(p * 2)) # random initial angels:\n",
        "\n",
        "# Trying to optimize the angles:\n",
        "optimization_result = scipy.optimize.minimize(\\\n",
        "                      objective, angles, args=(graph, p), method='Powell')\n",
        "# Getting the best angles:\n",
        "optimized_angles = optimization_result.x\n",
        "\n",
        "# Building a circuit with those angles. \n",
        "guess_cirquit = build_cirquit(optimized_angles, graph, p)\n",
        "result = guess_cirquit.execute()\n",
        "\n",
        "# Measuring 3 random bitstrings:\n",
        "bitstrings = result.measure_all(shots=3)\n",
        "for bitstr in bitstrings:\n",
        "  print(\"Measured bitstring : \", bitstr)\n",
        "  print(\"cut size _________ : \", get_cut_size(bitstr, graph))\n",
        "print(\"------\")\n",
        "\n",
        "# -----\n",
        "# Cuts distribution:\n",
        "bitstrings = result.measure_all(shots=10000)\n",
        "\n",
        "cuts = {}\n",
        "for i, enge in enumerate(graph.edges):\n",
        "  cuts[i] = 0\n",
        "for bitstr in bitstrings:\n",
        "  cuts[get_cut_size(bitstr, graph)] += 1\n",
        "\n",
        "print(\"Distribution of cuts: \", cuts, \"\\n\")\n",
        "\n",
        "plt.bar(cuts.keys(), cuts.values())"
      ],
      "execution_count": null,
      "outputs": [
        {
          "output_type": "stream",
          "text": [
            "Measured bitstring :  100101\n",
            "cut size _________ :  7\n",
            "Measured bitstring :  000101\n",
            "cut size _________ :  6\n",
            "Measured bitstring :  010110\n",
            "cut size _________ :  7\n",
            "------\n",
            "Distribution of cuts:  {0: 23, 1: 0, 2: 0, 3: 66, 4: 286, 5: 738, 6: 1898, 7: 6989, 8: 0} \n",
            "\n"
          ],
          "name": "stdout"
        },
        {
          "output_type": "execute_result",
          "data": {
            "text/plain": [
              "<BarContainer object of 9 artists>"
            ]
          },
          "metadata": {
            "tags": []
          },
          "execution_count": 18
        },
        {
          "output_type": "display_data",
          "data": {
            "image/png": "[encoded data removed]",
            "text/plain": [
              "<Figure size 432x288 with 1 Axes>"
            ]
          },
          "metadata": {
            "tags": []
          }
        }
      ]
    },
    {
      "cell_type": "markdown",
      "metadata": {
        "id": "TJbuAPtwE7IY",
        "colab_type": "text"
      },
      "source": [
        "--- \n",
        "#### Thank you!\n",
        "All info and updates for the lib can be found on the project's repo on GitHub: \\\n",
        "https://github.com/katolikyan/QCSimulator \\\n",
        "Do not hesitate to open an issue and contribute :)"
      ]
    }
  ]
}
