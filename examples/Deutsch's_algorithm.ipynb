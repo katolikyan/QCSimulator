{
  "nbformat": 4,
  "nbformat_minor": 0,
  "metadata": {
    "colab": {
      "name": "Deutsch's algorithm tutorial",
      "provenance": [],
      "collapsed_sections": []
    },
    "kernelspec": {
      "name": "python3",
      "display_name": "Python 3"
    }
  },
  "cells": [
    {
      "cell_type": "markdown",
      "metadata": {
        "id": "mK952WFIZsx7",
        "colab_type": "text"
      },
      "source": [
        "# Deutsch's algorithm\n",
        "## Quick overview\n",
        "The algorithm allows us to determine whether the function is constant (all output values are the same) or balanced (2 output values with exactly 50 / 50 distribution). A classical computer needs $2^{n - 1} + 1$ function calls in the worst case to determine if the function is balanced. QC can do that in just one function call.  \\\n",
        "\\\n",
        "The circuit for the function with only 1 input would look like this: \\\n",
        "![deutsch circuit](https://drive.google.com/uc?id=1fDbUvoYZGhxN9FuJYFInof-Ig-iANCm8) \\\n",
        "\n",
        "If a function accepts more then one parameter - the number of qubits will be equivalent to the number of inputs. In that case, the algorithm is called Deutsch–Jozsa and looks like this:\n",
        "![deutsch circuit](https://drive.google.com/uc?id=13SgIllh_UtUSkJy6YTa6FId1nth4WRD9) "
      ]
    },
    {
      "cell_type": "markdown",
      "metadata": {
        "id": "hXb2W6q5P0AM",
        "colab_type": "text"
      },
      "source": [
        "### All possible cases for single input function.\n",
        "\n",
        "Let's describe all possible functions that can exist with a single bit input. \\\n",
        "There are only 4 possible variations. \\\n",
        "\n",
        "The functions    | Type         | Matrix version where $x = \\begin{pmatrix} 1 \\\\ 0 \\end{pmatrix}$ or $\\begin{pmatrix} 0 \\\\ 1 \\end{pmatrix}$\n",
        "-----------      | ------------ | ---\n",
        "$f(x) = 0$       | Constant     | $\\begin{pmatrix} 1 & 1 \\\\ 0 & 0 \\end{pmatrix}$\n",
        "$f(x) = 1$       | Constant     | $\\begin{pmatrix} 0 & 0 \\\\ 1 & 1 \\end{pmatrix}$\n",
        "$f(x) = \\neg x$  | negation     | $\\begin{pmatrix} 0 & 1 \\\\ 1 & 0 \\end{pmatrix}$\n",
        "$f(x) = x$       | identity     | $\\begin{pmatrix} 1 & 0 \\\\ 0 & 1 \\end{pmatrix}$\n",
        "\n",
        "One of the rules of QC says that quantum functions have to be reversible, which means the matrix has to be unitary ($A^TA = I$) . \\\n",
        "To avoid creating matrixes that represent these functions we can simply build the black box $U_f$ with existing gates form our library. So $U_f$ can be considered completely reversible \\"
      ]
    },
    {
      "cell_type": "markdown",
      "metadata": {
        "id": "oNIhWytZiyfp",
        "colab_type": "text"
      },
      "source": [
        "--- \n",
        "### Examples. \n",
        "Let's implement a circuit with $f(x) = 1$. \\\n",
        "The first qubit will represent our input and the last one will represent our output."
      ]
    },
    {
      "cell_type": "code",
      "metadata": {
        "id": "ahYEQNokQCkd",
        "colab_type": "code",
        "colab": {}
      },
      "source": [
        "#instaling the library \\\n",
        "!git clone https://github.com/katolikyan/QCSimulator.git\n",
        "!pip3 install QCSimulator/"
      ],
      "execution_count": null,
      "outputs": []
    },
    {
      "cell_type": "markdown",
      "metadata": {
        "id": "5oYSMkFynD9u",
        "colab_type": "text"
      },
      "source": [
        "### $f(x) = 1$"
      ]
    },
    {
      "cell_type": "code",
      "metadata": {
        "id": "wgh2PhUwimjx",
        "colab_type": "code",
        "colab": {
          "base_uri": "https://localhost:8080/",
          "height": 85
        },
        "outputId": "95d4cc9d-a089-40eb-9e20-d983efafb69f"
      },
      "source": [
        "import qcsimulator as qcs\n",
        "\n",
        "# creating a circuit with 2 qubits on it.\n",
        "circuit = qcs.circuit_init(2)\n",
        "\n",
        "circuit.x(-1) # applying not gate to the last qubit\n",
        "circuit.h(0)  # Hadamard on qubit 0\n",
        "circuit.h(1)  # Hadamard on qubit 1\n",
        "\n",
        "# We don't have to do anything in this case because our constant function\n",
        "# representation will look like 2 wires without any gates on it.\n",
        "# -----\n",
        "# -----\n",
        "\n",
        "circuit.h(0) # Hadamard on qubit 0 again.\n",
        "result = circuit.execute() # execution of the circuit.\n",
        "\n",
        "# printing specific qubit collapse probability. qubit measurement equivalent.\n",
        "print(\"qubit 0 collapsing probability: \\n\", \\\n",
        "      result.get_single_qubit_probability(0), \"\\n\")\n",
        "\n",
        "# We can also doublecheck that the first qubit will always collapse into 1 or 0\n",
        "# by looking at all probabilities. \n",
        "print(result.get_all_probabilities())"
      ],
      "execution_count": null,
      "outputs": [
        {
          "output_type": "stream",
          "text": [
            "qubit 0 collapsing probability: \n",
            " {'0': 0.9999999999999996, '1': 5.004680467665245e-34} \n",
            "\n",
            "{'00': 0.4999999999999998, '01': 2.5023402338326227e-34, '10': 0.4999999999999998, '11': 2.5023402338326227e-34}\n"
          ],
          "name": "stdout"
        }
      ]
    },
    {
      "cell_type": "markdown",
      "metadata": {
        "id": "oDMPHepIk5-i",
        "colab_type": "text"
      },
      "source": [
        "We care only about measuring inputs. The Deutsch algorithm is deterministic so we need to only know if the first bit always collapsing to `0` (which means the function is constant) or to 1 (which means it is balanced). \\\n",
        "In the case above we can notice that the first qubit will always collapse to `0`. \\\n",
        "Let's recreate the rest of the functions. "
      ]
    },
    {
      "cell_type": "markdown",
      "metadata": {
        "id": "Fq2lTvdylmvx",
        "colab_type": "text"
      },
      "source": [
        "### $f(x) = 0$"
      ]
    },
    {
      "cell_type": "code",
      "metadata": {
        "id": "j36L5F_hjkUN",
        "colab_type": "code",
        "colab": {
          "base_uri": "https://localhost:8080/",
          "height": 85
        },
        "outputId": "8e89d061-23ac-494a-cd4d-b1dca5a8e282"
      },
      "source": [
        "circuit = qcs.circuit_init(2)\n",
        "\n",
        "circuit.x(-1)\n",
        "circuit.h(0)\n",
        "circuit.h(1)\n",
        "\n",
        "# Uf will look like:\n",
        "# -----\n",
        "# --X--\n",
        "circuit.x(1)\n",
        "\n",
        "circuit.h(0)\n",
        "result = circuit.execute()\n",
        "print(\"qubit 0 collapsing probability: \\n\", \\\n",
        "      result.get_single_qubit_probability(0), \"\\n\")\n",
        "print(result.get_all_probabilities())"
      ],
      "execution_count": null,
      "outputs": [
        {
          "output_type": "stream",
          "text": [
            "qubit 0 collapsing probability: \n",
            " {'0': 0.9999999999999996, '1': 0.0} \n",
            "\n",
            "{'00': 0.4999999999999998, '01': 0.0, '10': 0.4999999999999998, '11': 0.0}\n"
          ],
          "name": "stdout"
        }
      ]
    },
    {
      "cell_type": "markdown",
      "metadata": {
        "id": "hNNrDz-dl-Ff",
        "colab_type": "text"
      },
      "source": [
        "### $f(x) = \\neg x$"
      ]
    },
    {
      "cell_type": "code",
      "metadata": {
        "id": "I-4oF2uQmNMj",
        "colab_type": "code",
        "colab": {
          "base_uri": "https://localhost:8080/",
          "height": 85
        },
        "outputId": "855d9052-e40c-4a7e-f9e0-e73d16162243"
      },
      "source": [
        "circuit = qcs.circuit_init(2)\n",
        "\n",
        "circuit.x(-1)\n",
        "circuit.h(0)\n",
        "circuit.h(1)\n",
        "\n",
        "# Uf will look like:\n",
        "# --*--\n",
        "#   |\n",
        "# --X--\n",
        "circuit.cx(0, 1)\n",
        "\n",
        "circuit.h(0)\n",
        "result = circuit.execute()\n",
        "print(\"qubit 0 collapsing probability: \\n\", \\\n",
        "      result.get_single_qubit_probability(0), \"\\n\")\n",
        "print(result.get_all_probabilities())"
      ],
      "execution_count": null,
      "outputs": [
        {
          "output_type": "stream",
          "text": [
            "qubit 0 collapsing probability: \n",
            " {'0': 1.0573994819069698e-33, '1': 0.9999999999999996} \n",
            "\n",
            "{'00': 5.286997409534849e-34, '01': 0.4999999999999998, '10': 5.286997409534849e-34, '11': 0.4999999999999998}\n"
          ],
          "name": "stdout"
        }
      ]
    },
    {
      "cell_type": "markdown",
      "metadata": {
        "id": "KuRK7nbwmlDk",
        "colab_type": "text"
      },
      "source": [
        "### $f(x) = x$"
      ]
    },
    {
      "cell_type": "code",
      "metadata": {
        "id": "KKsZkpu7mrLm",
        "colab_type": "code",
        "colab": {
          "base_uri": "https://localhost:8080/",
          "height": 85
        },
        "outputId": "4bcfbeb0-194a-4890-d84a-bb580897f345"
      },
      "source": [
        "circuit = qcs.circuit_init(2)\n",
        "\n",
        "circuit.x(-1)\n",
        "circuit.h(0)\n",
        "circuit.h(1)\n",
        "\n",
        "# Uf will look like:\n",
        "# -----*--\n",
        "#      |\n",
        "# --X--X--\n",
        "circuit.x(0)\n",
        "circuit.cx(0, 1)\n",
        "\n",
        "circuit.h(0)\n",
        "result = circuit.execute()\n",
        "print(\"qubit 0 collapsing probability: \\n\", \\\n",
        "      result.get_single_qubit_probability(0), \"\\n\")\n",
        "print(result.get_all_probabilities())"
      ],
      "execution_count": null,
      "outputs": [
        {
          "output_type": "stream",
          "text": [
            "qubit 0 collapsing probability: \n",
            " {'0': 0.0, '1': 0.9999999999999996} \n",
            "\n",
            "{'00': 0.0, '01': 0.4999999999999998, '10': 0.0, '11': 0.4999999999999998}\n"
          ],
          "name": "stdout"
        }
      ]
    },
    {
      "cell_type": "markdown",
      "metadata": {
        "id": "Q1xQsl0oeqBH",
        "colab_type": "text"
      },
      "source": [
        "### Multiple argument function. Deutsch–Jozsa.\n",
        "Just to satisfy our curiosity let's try to implement a circuit with a function like $f(x_1, x_2)$ \\\n",
        "Let's make a balanced one, because for constant function $U_f$ would not be too different from something we have implemented for a single argument algorithm.\n",
        "\n",
        "Let's say that our function maps inputs as follows: \\\n",
        "`00: 1, 01: 0, 10: 0, 11: 1`\n",
        "Thus we have balanced function and we expect `qubit 0` and `qubit 1` to collapse only in `1`. \\\n",
        "Let's create a circuit for it. "
      ]
    },
    {
      "cell_type": "code",
      "metadata": {
        "id": "TkbnM0GUfi3f",
        "colab_type": "code",
        "colab": {
          "base_uri": "https://localhost:8080/",
          "height": 119
        },
        "outputId": "2ad332a7-d214-4eee-cdc5-aff58c10fb4d"
      },
      "source": [
        "n_qubits = 3\n",
        "circuit = qcs.circuit_init(n_qubits) # We need 3 qubits now.\n",
        "\n",
        "circuit.x(-1)                        # X on last one\n",
        "for i in range(n_qubits):            # H on every one\n",
        "  circuit.h(i)\n",
        "\n",
        "# Uf will look like:\n",
        "# 0 --*-----\n",
        "#     |  \n",
        "# 1 --|--*--\n",
        "#     |  |\n",
        "# 2 --X--X--\n",
        "circuit.cx(0, 2)\n",
        "circuit.cx(1, 2)\n",
        "\n",
        "for i in range(n_qubits - 1):        # H on every one but last one\n",
        "  circuit.h(i)\n",
        "  \n",
        "result = circuit.execute()\n",
        "\n",
        "# Measuring 2 single qubits. expecting prob of both to be 1.\n",
        "print(\"qubit 0 collapsing probability: \\n\", \\\n",
        "      result.get_single_qubit_probability(0))\n",
        "print(\"qubit 1 collapsing probability: \\n\", \\\n",
        "      result.get_single_qubit_probability(1), \"\\n\")\n",
        "print(result.get_all_probabilities())"
      ],
      "execution_count": null,
      "outputs": [
        {
          "output_type": "stream",
          "text": [
            "qubit 0 collapsing probability: \n",
            " {'0': 6.07716335728627e-64, '1': 0.9999999999999989}\n",
            "qubit 1 collapsing probability: \n",
            " {'0': 1.8142106940266839e-34, '1': 0.9999999999999989} \n",
            "\n",
            "{'000': 0.0, '001': 9.071053470133419e-35, '010': 3.038581678643135e-64, '011': 0.49999999999999944, '100': 0.0, '101': 9.071053470133419e-35, '110': 3.038581678643135e-64, '111': 0.49999999999999944}\n"
          ],
          "name": "stdout"
        }
      ]
    },
    {
      "cell_type": "markdown",
      "metadata": {
        "id": "qkb5rN3pF1Yp",
        "colab_type": "text"
      },
      "source": [
        "--- \n",
        "#### Thank you!\n",
        "All info and updates for the lib can be found on the project's repo on GitHub: \\\n",
        "https://github.com/katolikyan/QCSimulator \\\n",
        "Do not hesitate to open an issue and contribute :)\n"
      ]
    }
  ]
}
